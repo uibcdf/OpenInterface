{
 "cells": [
  {
   "cell_type": "code",
   "execution_count": 1,
   "metadata": {},
   "outputs": [],
   "source": [
    "%load_ext autoreload\n",
    "%autoreload 2"
   ]
  },
  {
   "cell_type": "code",
   "execution_count": 8,
   "metadata": {},
   "outputs": [],
   "source": [
    "import molsysmt as msm\n",
    "import openinterface as oin\n",
    "from matplotlib import pyplot as plt\n",
    "import nglview as nv\n",
    "import numpy as np\n",
    "from simtk import unit"
   ]
  },
  {
   "cell_type": "code",
   "execution_count": 3,
   "metadata": {},
   "outputs": [],
   "source": [
    "molecular_system=msm.convert(\"HIF1_HS_Mod.pdb\")"
   ]
  },
  {
   "cell_type": "code",
   "execution_count": 4,
   "metadata": {},
   "outputs": [
    {
     "data": {
      "text/html": [
       "<style  type=\"text/css\" >\n",
       "</style><table id=\"T_23436c0a_abae_11ea_aea3_4fc4de911ae5\" ><thead>    <tr>        <th class=\"col_heading level0 col0\" >form</th>        <th class=\"col_heading level0 col1\" >n atoms</th>        <th class=\"col_heading level0 col2\" >n groups</th>        <th class=\"col_heading level0 col3\" >n components</th>        <th class=\"col_heading level0 col4\" >n chains</th>        <th class=\"col_heading level0 col5\" >n molecules</th>        <th class=\"col_heading level0 col6\" >n entities</th>        <th class=\"col_heading level0 col7\" >n peptides</th>        <th class=\"col_heading level0 col8\" >n frames</th>    </tr></thead><tbody>\n",
       "                <tr>\n",
       "                                <td id=\"T_23436c0a_abae_11ea_aea3_4fc4de911ae5row0_col0\" class=\"data row0 col0\" >molsysmt.MolSys</td>\n",
       "                        <td id=\"T_23436c0a_abae_11ea_aea3_4fc4de911ae5row0_col1\" class=\"data row0 col1\" >5639</td>\n",
       "                        <td id=\"T_23436c0a_abae_11ea_aea3_4fc4de911ae5row0_col2\" class=\"data row0 col2\" >706</td>\n",
       "                        <td id=\"T_23436c0a_abae_11ea_aea3_4fc4de911ae5row0_col3\" class=\"data row0 col3\" >2</td>\n",
       "                        <td id=\"T_23436c0a_abae_11ea_aea3_4fc4de911ae5row0_col4\" class=\"data row0 col4\" >2</td>\n",
       "                        <td id=\"T_23436c0a_abae_11ea_aea3_4fc4de911ae5row0_col5\" class=\"data row0 col5\" >2</td>\n",
       "                        <td id=\"T_23436c0a_abae_11ea_aea3_4fc4de911ae5row0_col6\" class=\"data row0 col6\" >2</td>\n",
       "                        <td id=\"T_23436c0a_abae_11ea_aea3_4fc4de911ae5row0_col7\" class=\"data row0 col7\" >2</td>\n",
       "                        <td id=\"T_23436c0a_abae_11ea_aea3_4fc4de911ae5row0_col8\" class=\"data row0 col8\" >1</td>\n",
       "            </tr>\n",
       "    </tbody></table>"
      ],
      "text/plain": [
       "<pandas.io.formats.style.Styler at 0x7fe8f298e550>"
      ]
     },
     "execution_count": 4,
     "metadata": {},
     "output_type": "execute_result"
    }
   ],
   "source": [
    "msm.info(molecular_system)"
   ]
  },
  {
   "cell_type": "markdown",
   "metadata": {},
   "source": [
    "## Buried factors"
   ]
  },
  {
   "cell_type": "code",
   "execution_count": null,
   "metadata": {},
   "outputs": [],
   "source": [
    "buried_factors_receptor, buried_factors_ligand, labels_receptor, labels_ligand = \\\n",
    "oin.buried_factors(molecular_system, 'component_index==0', 'component_index==1')"
   ]
  },
  {
   "cell_type": "code",
   "execution_count": null,
   "metadata": {},
   "outputs": [],
   "source": [
    "view = nv.show_molsysmt(molecular_system)\n",
    "view.clear()\n",
    "buried_factors_all = np.hstack([buried_factors_receptor, buried_factors_ligand])\n",
    "msm.nglview.show_colored_surface_by_scalar_residue_values(view, buried_factors_all[0,:])\n",
    "view"
   ]
  },
  {
   "cell_type": "code",
   "execution_count": null,
   "metadata": {},
   "outputs": [],
   "source": [
    "view = nv.show_molsysmt(molecular_system, selection=\"component_index==0\")\n",
    "view.clear()\n",
    "msm.nglview.show_colored_surface_by_scalar_residue_values(view, buried_factors_receptor[0,:])\n",
    "view"
   ]
  },
  {
   "cell_type": "code",
   "execution_count": null,
   "metadata": {},
   "outputs": [],
   "source": [
    "view = nv.show_molsysmt(molecular_system, selection=\"component_index==1\")\n",
    "view.clear()\n",
    "msm.nglview.show_colored_surface_by_scalar_residue_values(view, buried_factors_ligand[0,:])\n",
    "view"
   ]
  },
  {
   "cell_type": "markdown",
   "metadata": {},
   "source": [
    "## Contact map and connectivity\n",
    "\n",
    "### Contact map"
   ]
  },
  {
   "cell_type": "code",
   "execution_count": null,
   "metadata": {},
   "outputs": [],
   "source": [
    "contact_map, labels_receptor, labels_ligand = \\\n",
    "oin.contact_map(molecular_system,'component_index==0', 'component_index==1')"
   ]
  },
  {
   "cell_type": "code",
   "execution_count": null,
   "metadata": {},
   "outputs": [],
   "source": [
    "plt.imshow(contact_map[0], cmap='Greys', origin='lower')\n",
    "plt.show()"
   ]
  },
  {
   "cell_type": "markdown",
   "metadata": {},
   "source": [
    "### Connectivity"
   ]
  },
  {
   "cell_type": "code",
   "execution_count": null,
   "metadata": {},
   "outputs": [],
   "source": [
    "connectivity_receptor, connectivity_ligand, labels_receptor, labels_ligand = \\\n",
    "oin.connectivity(molecular_system, 'component_index==0', 'component_index==1')"
   ]
  },
  {
   "cell_type": "code",
   "execution_count": null,
   "metadata": {},
   "outputs": [],
   "source": [
    "plt.scatter(connectivity_ligand[0], buried_factors_ligand[0])\n",
    "plt.show()"
   ]
  },
  {
   "cell_type": "code",
   "execution_count": null,
   "metadata": {},
   "outputs": [],
   "source": [
    "plt.scatter(connectivity_receptor[0], buried_factors_receptor[0])\n",
    "plt.show()"
   ]
  },
  {
   "cell_type": "code",
   "execution_count": null,
   "metadata": {},
   "outputs": [],
   "source": [
    "view = nv.show_molsysmt(molecular_system)\n",
    "view.clear()\n",
    "connectivity_all = np.hstack([connectivity_receptor, connectivity_ligand])\n",
    "msm.nglview.show_colored_surface_by_scalar_residue_values(view, connectivity_all[0,:])\n",
    "view"
   ]
  },
  {
   "cell_type": "code",
   "execution_count": null,
   "metadata": {},
   "outputs": [],
   "source": [
    "view = nv.show_molsysmt(molecular_system, selection=\"component_index==0\")\n",
    "view.clear()\n",
    "msm.nglview.show_colored_surface_by_scalar_residue_values(view, connectivity_receptor[0,:])\n",
    "view"
   ]
  },
  {
   "cell_type": "code",
   "execution_count": null,
   "metadata": {},
   "outputs": [],
   "source": [
    "view = nv.show_molsysmt(molecular_system, selection=\"component_index==1\")\n",
    "view.clear()\n",
    "msm.nglview.show_colored_surface_by_scalar_residue_values(view, connectivity_ligand[0,:])\n",
    "view"
   ]
  },
  {
   "cell_type": "markdown",
   "metadata": {},
   "source": [
    "### Nearby Connectivity"
   ]
  },
  {
   "cell_type": "code",
   "execution_count": null,
   "metadata": {},
   "outputs": [],
   "source": [
    "nearby_connectivity_receptor, nearby_connectivity_ligand, labels_receptor, labels_ligand = \\\n",
    "oin.connectivity(molecular_system, 'component_index==0', 'component_index==1')"
   ]
  },
  {
   "cell_type": "code",
   "execution_count": null,
   "metadata": {},
   "outputs": [],
   "source": [
    "view = nv.show_molsysmt(molecular_system, selection=\"component_index==0\")\n",
    "view.clear()\n",
    "msm.nglview.show_colored_surface_by_scalar_residue_values(view, nearby_connectivity_receptor[0,:])\n",
    "view"
   ]
  },
  {
   "cell_type": "code",
   "execution_count": null,
   "metadata": {},
   "outputs": [],
   "source": [
    "view = nv.show_molsysmt(molecular_system, selection=\"component_index==1\")\n",
    "view.clear()\n",
    "msm.nglview.show_colored_surface_by_scalar_residue_values(view, nearby_connectivity_ligand[0,:])\n",
    "view"
   ]
  },
  {
   "cell_type": "markdown",
   "metadata": {},
   "source": [
    "## Contacting residues"
   ]
  },
  {
   "cell_type": "code",
   "execution_count": 59,
   "metadata": {},
   "outputs": [],
   "source": [
    "residues_rec, residues_lig = oin.contacting_residues(molecular_system, 'component_index==0', 'component_index==1')"
   ]
  },
  {
   "cell_type": "code",
   "execution_count": 60,
   "metadata": {},
   "outputs": [
    {
     "data": {
      "text/plain": [
       "array([339, 340, 360, 361, 362, 363, 364, 365, 366])"
      ]
     },
     "execution_count": 60,
     "metadata": {},
     "output_type": "execute_result"
    }
   ],
   "source": [
    "residues_rec"
   ]
  },
  {
   "cell_type": "code",
   "execution_count": 61,
   "metadata": {},
   "outputs": [
    {
     "data": {
      "text/plain": [
       "array([367, 368, 369, 370, 371, 372, 373, 374, 391, 392])"
      ]
     },
     "execution_count": 61,
     "metadata": {},
     "output_type": "execute_result"
    }
   ],
   "source": [
    "residues_lig"
   ]
  },
  {
   "cell_type": "code",
   "execution_count": 55,
   "metadata": {},
   "outputs": [],
   "source": [
    "n_residues_rec = msm.get(molecular_system, selection='component_index==0', n_groups=True)\n",
    "n_residues_lig = msm.get(molecular_system, selection='component_index==1', n_groups=True)"
   ]
  },
  {
   "cell_type": "code",
   "execution_count": 63,
   "metadata": {},
   "outputs": [],
   "source": [
    "pinto_contactos = np.zeros(n_residues_rec)\n",
    "pinto_contactos[residues_rec]=1.0"
   ]
  },
  {
   "cell_type": "code",
   "execution_count": 64,
   "metadata": {},
   "outputs": [
    {
     "data": {
      "application/vnd.jupyter.widget-view+json": {
       "model_id": "8f019c13e69c40af942ae26875bccd09",
       "version_major": 2,
       "version_minor": 0
      },
      "text/plain": [
       "NGLWidget()"
      ]
     },
     "metadata": {},
     "output_type": "display_data"
    }
   ],
   "source": [
    "view = nv.show_molsysmt(molecular_system, selection='component_index==0')\n",
    "view.clear()\n",
    "msm.nglview.show_colored_surface_by_scalar_residue_values(view, pinto_contactos)\n",
    "view"
   ]
  },
  {
   "cell_type": "code",
   "execution_count": 65,
   "metadata": {},
   "outputs": [],
   "source": [
    "pinto_contactos = np.zeros(n_residues_lig)\n",
    "pinto_contactos[residues_lig-367]=1.0"
   ]
  },
  {
   "cell_type": "code",
   "execution_count": 67,
   "metadata": {},
   "outputs": [
    {
     "data": {
      "text/plain": [
       "array([ 0,  1,  2,  3,  4,  5,  6,  7, 24, 25])"
      ]
     },
     "execution_count": 67,
     "metadata": {},
     "output_type": "execute_result"
    }
   ],
   "source": [
    "residues_lig-367"
   ]
  },
  {
   "cell_type": "code",
   "execution_count": 66,
   "metadata": {},
   "outputs": [
    {
     "data": {
      "application/vnd.jupyter.widget-view+json": {
       "model_id": "6cbbf5cf3d3d4b23874cd2d0f7af4026",
       "version_major": 2,
       "version_minor": 0
      },
      "text/plain": [
       "NGLWidget()"
      ]
     },
     "metadata": {},
     "output_type": "display_data"
    }
   ],
   "source": [
    "view = nv.show_molsysmt(molecular_system, selection='component_index==1')\n",
    "view.clear()\n",
    "msm.nglview.show_colored_surface_by_scalar_residue_values(view, pinto_contactos)\n",
    "view"
   ]
  },
  {
   "cell_type": "markdown",
   "metadata": {},
   "source": [
    "## SASA buried"
   ]
  },
  {
   "cell_type": "code",
   "execution_count": null,
   "metadata": {},
   "outputs": [],
   "source": [
    "oin.sasa_buried(molecular_system, 'component_index==0', 'component_index==1')"
   ]
  },
  {
   "cell_type": "markdown",
   "metadata": {},
   "source": [
    "## Surface polarity"
   ]
  },
  {
   "cell_type": "code",
   "execution_count": null,
   "metadata": {},
   "outputs": [],
   "source": [
    "polarity = msm.physchem.get_polarity(molecular_system, selection='component_index==0', target='group', polarity_type='grantham')"
   ]
  },
  {
   "cell_type": "code",
   "execution_count": null,
   "metadata": {},
   "outputs": [],
   "source": [
    "view = nv.show_molsysmt(molecular_system, selection='component_index==0')\n",
    "view.clear()\n",
    "msm.nglview.show_colored_surface_by_scalar_residue_values(view, np.array(polarity))\n",
    "view"
   ]
  },
  {
   "cell_type": "code",
   "execution_count": null,
   "metadata": {},
   "outputs": [],
   "source": [
    "polarity = msm.physchem.get_polarity(molecular_system, selection='component_index==1', target='group', polarity_type='grantham')"
   ]
  },
  {
   "cell_type": "code",
   "execution_count": null,
   "metadata": {},
   "outputs": [],
   "source": [
    "view = nv.show_molsysmt(molecular_system, selection='component_index==1')\n",
    "view.clear()\n",
    "msm.nglview.show_colored_surface_by_scalar_residue_values(view, np.array(polarity))\n",
    "view"
   ]
  },
  {
   "cell_type": "code",
   "execution_count": 35,
   "metadata": {},
   "outputs": [
    {
     "data": {
      "text/plain": [
       "[Quantity(value=155.0, unit=picometer),\n",
       " Quantity(value=155.0, unit=picometer),\n",
       " Quantity(value=155.0, unit=picometer),\n",
       " Quantity(value=155.0, unit=picometer),\n",
       " Quantity(value=170.0, unit=picometer),\n",
       " Quantity(value=170.0, unit=picometer),\n",
       " Quantity(value=152.0, unit=picometer)]"
      ]
     },
     "execution_count": 35,
     "metadata": {},
     "output_type": "execute_result"
    }
   ],
   "source": [
    "msm.physchem.get_radii(molecular_system, selection=[0,0,0,0,1,2,3], target='atom', radius_type='vdw')"
   ]
  },
  {
   "cell_type": "code",
   "execution_count": null,
   "metadata": {},
   "outputs": [],
   "source": []
  }
 ],
 "metadata": {
  "kernelspec": {
   "display_name": "Python 3",
   "language": "python",
   "name": "python3"
  },
  "language_info": {
   "codemirror_mode": {
    "name": "ipython",
    "version": 3
   },
   "file_extension": ".py",
   "mimetype": "text/x-python",
   "name": "python",
   "nbconvert_exporter": "python",
   "pygments_lexer": "ipython3",
   "version": "3.7.7"
  }
 },
 "nbformat": 4,
 "nbformat_minor": 4
}
