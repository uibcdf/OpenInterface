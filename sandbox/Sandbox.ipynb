{
 "cells": [
  {
   "cell_type": "code",
   "execution_count": 1,
   "metadata": {},
   "outputs": [],
   "source": [
    "%load_ext autoreload\n",
    "%autoreload 2"
   ]
  },
  {
   "cell_type": "code",
   "execution_count": 2,
   "metadata": {},
   "outputs": [
    {
     "data": {
      "application/vnd.jupyter.widget-view+json": {
       "model_id": "69c3257262954edc93934d89672d0585",
       "version_major": 2,
       "version_minor": 0
      },
      "text/plain": [
       "_ColormakerRegistry()"
      ]
     },
     "metadata": {},
     "output_type": "display_data"
    }
   ],
   "source": [
    "import molsysmt as msm\n",
    "import openinterface as oi\n",
    "from matplotlib import pyplot as plt"
   ]
  },
  {
   "cell_type": "code",
   "execution_count": 3,
   "metadata": {},
   "outputs": [],
   "source": [
    "molecular_system=msm.convert(\"mmtf:1tcd\")"
   ]
  },
  {
   "cell_type": "code",
   "execution_count": 4,
   "metadata": {},
   "outputs": [],
   "source": [
    "molecular_system=msm.remove_solvent(molecular_system)"
   ]
  },
  {
   "cell_type": "code",
   "execution_count": 5,
   "metadata": {},
   "outputs": [
    {
     "data": {
      "text/html": [
       "<style  type=\"text/css\" >\n",
       "</style><table id=\"T_97efc1ac_a47e_11ea_b11a_d397b16d66d0\" ><thead>    <tr>        <th class=\"col_heading level0 col0\" >form</th>        <th class=\"col_heading level0 col1\" >n atoms</th>        <th class=\"col_heading level0 col2\" >n groups</th>        <th class=\"col_heading level0 col3\" >n components</th>        <th class=\"col_heading level0 col4\" >n chains</th>        <th class=\"col_heading level0 col5\" >n molecules</th>        <th class=\"col_heading level0 col6\" >n entities</th>        <th class=\"col_heading level0 col7\" >n proteins</th>        <th class=\"col_heading level0 col8\" >n frames</th>    </tr></thead><tbody>\n",
       "                <tr>\n",
       "                                <td id=\"T_97efc1ac_a47e_11ea_b11a_d397b16d66d0row0_col0\" class=\"data row0 col0\" >molsysmt.MolSys</td>\n",
       "                        <td id=\"T_97efc1ac_a47e_11ea_b11a_d397b16d66d0row0_col1\" class=\"data row0 col1\" >3818</td>\n",
       "                        <td id=\"T_97efc1ac_a47e_11ea_b11a_d397b16d66d0row0_col2\" class=\"data row0 col2\" >497</td>\n",
       "                        <td id=\"T_97efc1ac_a47e_11ea_b11a_d397b16d66d0row0_col3\" class=\"data row0 col3\" >2</td>\n",
       "                        <td id=\"T_97efc1ac_a47e_11ea_b11a_d397b16d66d0row0_col4\" class=\"data row0 col4\" >2</td>\n",
       "                        <td id=\"T_97efc1ac_a47e_11ea_b11a_d397b16d66d0row0_col5\" class=\"data row0 col5\" >1</td>\n",
       "                        <td id=\"T_97efc1ac_a47e_11ea_b11a_d397b16d66d0row0_col6\" class=\"data row0 col6\" >1</td>\n",
       "                        <td id=\"T_97efc1ac_a47e_11ea_b11a_d397b16d66d0row0_col7\" class=\"data row0 col7\" >1</td>\n",
       "                        <td id=\"T_97efc1ac_a47e_11ea_b11a_d397b16d66d0row0_col8\" class=\"data row0 col8\" >1</td>\n",
       "            </tr>\n",
       "    </tbody></table>"
      ],
      "text/plain": [
       "<pandas.io.formats.style.Styler at 0x7f49bc0f4410>"
      ]
     },
     "execution_count": 5,
     "metadata": {},
     "output_type": "execute_result"
    }
   ],
   "source": [
    "msm.info(molecular_system)"
   ]
  },
  {
   "cell_type": "code",
   "execution_count": 6,
   "metadata": {},
   "outputs": [],
   "source": [
    "buried_factors_receptor, buried_factors_ligand, labels_receptor, labels_ligand = \\\n",
    "oi.buried_factors(molecular_system, 'chain.index==0', 'chain.index==1')"
   ]
  },
  {
   "cell_type": "code",
   "execution_count": 7,
   "metadata": {},
   "outputs": [],
   "source": [
    "contact_map, labels_receptor, labels_ligand = \\\n",
    "oi.contact_map(molecular_system,'chain.index==0', 'chain.index==1')"
   ]
  },
  {
   "cell_type": "code",
   "execution_count": 8,
   "metadata": {},
   "outputs": [],
   "source": [
    "connectivity_receptor, connectivity_ligand, labels_receptor, labels_ligand = \\\n",
    "oi.connectivity(molecular_system, 'chain.index==0', 'chain.index==1')"
   ]
  },
  {
   "cell_type": "code",
   "execution_count": null,
   "metadata": {},
   "outputs": [],
   "source": [
    "for ii,jj,kk in zip(labels_ligand, connectivity_ligand[0], buried_factors_ligand[0]):\n",
    "    print(ii,jj,kk)"
   ]
  },
  {
   "cell_type": "code",
   "execution_count": null,
   "metadata": {},
   "outputs": [],
   "source": [
    "plt.scatter(connectivity_ligand[0], buried_factors_ligand[0])"
   ]
  },
  {
   "cell_type": "code",
   "execution_count": 9,
   "metadata": {},
   "outputs": [
    {
     "data": {
      "text/plain": [
       "Quantity(value=array([29.803314], dtype=float32), unit=nanometer**2)"
      ]
     },
     "execution_count": 9,
     "metadata": {},
     "output_type": "execute_result"
    }
   ],
   "source": [
    "oi.sasa_buried(molecular_system, 'chain.index==0', 'chain.index==1')"
   ]
  },
  {
   "cell_type": "code",
   "execution_count": null,
   "metadata": {},
   "outputs": [],
   "source": []
  }
 ],
 "metadata": {
  "kernelspec": {
   "display_name": "Python 3",
   "language": "python",
   "name": "python3"
  },
  "language_info": {
   "codemirror_mode": {
    "name": "ipython",
    "version": 3
   },
   "file_extension": ".py",
   "mimetype": "text/x-python",
   "name": "python",
   "nbconvert_exporter": "python",
   "pygments_lexer": "ipython3",
   "version": "3.7.7"
  }
 },
 "nbformat": 4,
 "nbformat_minor": 4
}
