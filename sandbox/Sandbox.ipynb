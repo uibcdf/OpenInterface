{
 "cells": [
  {
   "cell_type": "code",
   "execution_count": 1,
   "metadata": {},
   "outputs": [],
   "source": [
    "%load_ext autoreload\n",
    "%autoreload 2"
   ]
  },
  {
   "cell_type": "code",
   "execution_count": 4,
   "metadata": {},
   "outputs": [],
   "source": [
    "import molsysmt as msm\n",
    "import openinterface as oin\n",
    "from matplotlib import pyplot as plt"
   ]
  },
  {
   "cell_type": "code",
   "execution_count": 5,
   "metadata": {},
   "outputs": [],
   "source": [
    "molecular_system=msm.convert(\"HIF1_HS_Mod.pdb\")"
   ]
  },
  {
   "cell_type": "code",
   "execution_count": 6,
   "metadata": {},
   "outputs": [
    {
     "data": {
      "text/html": [
       "<style  type=\"text/css\" >\n",
       "</style><table id=\"T_9e918c3c_a6c4_11ea_8fc0_cd5037069df7\" ><thead>    <tr>        <th class=\"col_heading level0 col0\" >form</th>        <th class=\"col_heading level0 col1\" >n atoms</th>        <th class=\"col_heading level0 col2\" >n groups</th>        <th class=\"col_heading level0 col3\" >n components</th>        <th class=\"col_heading level0 col4\" >n chains</th>        <th class=\"col_heading level0 col5\" >n molecules</th>        <th class=\"col_heading level0 col6\" >n entities</th>        <th class=\"col_heading level0 col7\" >n frames</th>    </tr></thead><tbody>\n",
       "                <tr>\n",
       "                                <td id=\"T_9e918c3c_a6c4_11ea_8fc0_cd5037069df7row0_col0\" class=\"data row0 col0\" >molsysmt.MolSys</td>\n",
       "                        <td id=\"T_9e918c3c_a6c4_11ea_8fc0_cd5037069df7row0_col1\" class=\"data row0 col1\" >5639</td>\n",
       "                        <td id=\"T_9e918c3c_a6c4_11ea_8fc0_cd5037069df7row0_col2\" class=\"data row0 col2\" >706</td>\n",
       "                        <td id=\"T_9e918c3c_a6c4_11ea_8fc0_cd5037069df7row0_col3\" class=\"data row0 col3\" >2</td>\n",
       "                        <td id=\"T_9e918c3c_a6c4_11ea_8fc0_cd5037069df7row0_col4\" class=\"data row0 col4\" >2</td>\n",
       "                        <td id=\"T_9e918c3c_a6c4_11ea_8fc0_cd5037069df7row0_col5\" class=\"data row0 col5\" >2</td>\n",
       "                        <td id=\"T_9e918c3c_a6c4_11ea_8fc0_cd5037069df7row0_col6\" class=\"data row0 col6\" >1</td>\n",
       "                        <td id=\"T_9e918c3c_a6c4_11ea_8fc0_cd5037069df7row0_col7\" class=\"data row0 col7\" >1</td>\n",
       "            </tr>\n",
       "    </tbody></table>"
      ],
      "text/plain": [
       "<pandas.io.formats.style.Styler at 0x7f42ae9f79d0>"
      ]
     },
     "execution_count": 6,
     "metadata": {},
     "output_type": "execute_result"
    }
   ],
   "source": [
    "msm.info(molecular_system)"
   ]
  },
  {
   "cell_type": "code",
   "execution_count": 7,
   "metadata": {},
   "outputs": [],
   "source": [
    "buried_factors_receptor, buried_factors_ligand, labels_receptor, labels_ligand = \\\n",
    "oi.buried_factors(molecular_system, 'component.index==0', 'component.index==1')"
   ]
  },
  {
   "cell_type": "code",
   "execution_count": 8,
   "metadata": {},
   "outputs": [],
   "source": [
    "contact_map, labels_receptor, labels_ligand = \\\n",
    "oi.contact_map(molecular_system,'component.index==0', 'component.index==1')"
   ]
  },
  {
   "cell_type": "code",
   "execution_count": 9,
   "metadata": {},
   "outputs": [
    {
     "data": {
      "image/png": "[encoded data removed]",
      "text/plain": [
       "<Figure size 432x288 with 1 Axes>"
      ]
     },
     "metadata": {
      "needs_background": "light"
     },
     "output_type": "display_data"
    }
   ],
   "source": [
    "plt.imshow(contact_map[0], cmap='Greys', origin='lower')\n",
    "plt.show()"
   ]
  },
  {
   "cell_type": "code",
   "execution_count": 10,
   "metadata": {},
   "outputs": [],
   "source": [
    "connectivity_receptor, connectivity_ligand, labels_receptor, labels_ligand = \\\n",
    "oi.connectivity(molecular_system, 'component.index==0', 'component.index==1')"
   ]
  },
  {
   "cell_type": "code",
   "execution_count": 11,
   "metadata": {
    "collapsed": true,
    "jupyter": {
     "outputs_hidden": true
    }
   },
   "outputs": [
    {
     "name": "stdout",
     "output_type": "stream",
     "text": [
      "LYS-11@367 0 0.0\n",
      "LYS-12@368 0 0.0\n",
      "ILE-13@369 0 0.0\n",
      "SER-14@370 0 0.0\n",
      "SER-15@371 0 0.0\n",
      "GLU-16@372 0 0.0\n",
      "ARG-17@373 0 0.0\n",
      "ARG-18@374 0 0.0\n",
      "LYS-19@375 0 0.0\n",
      "GLU-20@376 0 0.0\n",
      "LYS-21@377 0 0.0\n",
      "SER-22@378 0 0.0\n",
      "ARG-23@379 0 0.0\n",
      "ASP-24@380 0 0.0\n",
      "ALA-25@381 0 0.0\n",
      "ALA-26@382 0 0.0\n",
      "ARG-27@383 0 0.0\n",
      "SER-28@384 0 0.0\n",
      "ARG-29@385 2 0.026978440499308906\n",
      "ARG-30@386 1 0.16015468826334703\n",
      "SER-31@387 1 0.0\n",
      "LYS-32@388 4 0.09389552490578873\n",
      "GLU-33@389 10 0.11610775317860615\n",
      "SER-34@390 4 0.0\n",
      "GLU-35@391 3 0.0\n",
      "VAL-36@392 9 0.8839163669165627\n",
      "PHE-37@393 12 0.8227272790906263\n",
      "TYR-38@394 2 0.0\n",
      "GLU-39@395 5 0.14560089549474683\n",
      "LEU-40@396 14 0.7782863527917327\n",
      "ALA-41@397 3 0.0\n",
      "HIS-42@398 2 0.0\n",
      "GLN-43@399 10 0.36382676745099174\n",
      "LEU-44@400 10 0.0\n",
      "PRO-45@401 13 0.2009771245283028\n",
      "LEU-46@402 6 0.29503339109102533\n",
      "PRO-47@403 2 0.0\n",
      "HIS-48@404 0 0.0\n",
      "ASN-49@405 0 0.0\n",
      "VAL-50@406 0 0.0\n",
      "SER-51@407 0 0.0\n",
      "SER-52@408 0 0.0\n",
      "HIS-53@409 0 0.0\n",
      "LEU-54@410 0 0.0\n",
      "ASP-55@411 4 0.3838549510282655\n",
      "LYS-56@412 9 0.5317813337812693\n",
      "ALA-57@413 11 0.7282332060248385\n",
      "SER-58@414 8 0.0\n",
      "VAL-59@415 10 0.09999997778944737\n",
      "MET-60@416 16 1.0\n",
      "ARG-61@417 9 0.6131258673176604\n",
      "LEU-62@418 6 0.2707819489621201\n",
      "THR-63@419 16 0.7341932560119746\n",
      "ILE-64@420 16 0.9601438558168102\n",
      "SER-65@421 6 0.0\n",
      "TYR-66@422 13 0.8677464877595841\n",
      "LEU-67@423 17 0.8865283235743305\n",
      "ARG-68@424 10 0.4599218175574514\n",
      "VAL-69@425 7 0.6295623371384337\n",
      "ARG-70@426 14 0.7910115714463667\n",
      "LYS-71@427 8 0.4134227350664869\n",
      "LEU-72@428 2 0.0\n",
      "LEU-73@429 9 0.5798850745915174\n",
      "ASP-74@430 3 0.21130847379524362\n",
      "ALA-75@431 0 0.0\n",
      "GLY-76@432 3 0.0\n",
      "ASP-77@433 1 0.0\n",
      "LEU-78@434 6 0.36046242354758296\n",
      "ASP-79@435 4 0.0\n",
      "ILE-80@436 7 0.32835928149342664\n",
      "GLU-81@437 4 0.0\n",
      "ASP-82@438 1 0.0\n",
      "ASP-83@439 9 0.19084854786498412\n",
      "MET-84@440 11 0.6187511025628023\n",
      "LYS-85@441 9 0.08721020691436134\n",
      "ALA-86@442 16 0.2914964671713206\n",
      "GLN-87@443 13 0.09788741203821699\n",
      "MET-88@444 22 0.7635149840726562\n",
      "ASN-89@445 22 0.867143281039365\n",
      "CYS-90@446 18 0.8562540789725451\n",
      "PHE-91@447 24 0.5807385439659544\n",
      "TYR-92@448 29 0.9934769605959164\n",
      "LEU-93@449 22 0.7816714583796378\n",
      "LYS-94@450 18 0.4344981529492483\n",
      "ALA-95@451 26 0.9959727867205098\n",
      "LEU-96@452 24 0.7022748261770647\n",
      "ASP-97@453 15 0.42594828417650427\n",
      "GLY-98@454 6 0.0\n",
      "PHE-99@455 5 0.0\n",
      "VAL-100@456 12 0.941747572815534\n",
      "MET-101@457 6 0.0\n",
      "VAL-102@458 6 0.19230770983080994\n",
      "LEU-103@459 0 0.0\n",
      "THR-104@460 0 0.0\n",
      "ASP-105@461 0 0.0\n",
      "ASP-106@462 0 0.0\n",
      "GLY-107@463 0 0.0\n",
      "ASP-108@464 0 0.036096643556061965\n",
      "MET-109@465 0 0.0\n",
      "ILE-110@466 1 0.27728560348844794\n",
      "TYR-111@467 3 0.8905951511296551\n",
      "ILE-112@468 4 0.0\n",
      "SER-113@469 8 0.05573000235126334\n",
      "ASP-114@470 5 0.27482210399092727\n",
      "ASN-115@471 2 0.0\n",
      "VAL-116@472 0 0.0\n",
      "ASN-117@473 0 0.0\n",
      "LYS-118@474 0 0.13707813159391644\n",
      "TYR-119@475 0 0.009027742288210853\n",
      "MET-120@476 0 0.0\n",
      "GLY-121@477 0 0.0\n",
      "LEU-122@478 0 0.0\n",
      "THR-123@479 0 0.0\n",
      "GLN-124@480 2 0.8775053174726035\n",
      "PHE-125@481 1 0.0\n",
      "GLU-126@482 0 0.0\n",
      "LEU-127@483 0 0.0\n",
      "THR-128@484 1 0.8567498500297588\n",
      "GLY-129@485 3 0.1830129211471324\n",
      "HIS-130@486 2 0.1541211088141928\n",
      "SER-131@487 0 0.0\n",
      "VAL-132@488 0 0.0\n",
      "PHE-133@489 0 0.0\n",
      "ASP-134@490 0 0.0\n",
      "PHE-135@491 0 0.0\n",
      "THR-136@492 0 0.0\n",
      "HIS-137@493 0 0.0\n",
      "PRO-138@494 0 0.0\n",
      "CYS-139@495 0 0.0\n",
      "ASP-140@496 0 0.0\n",
      "HIS-141@497 0 0.0\n",
      "GLU-142@498 0 0.0\n",
      "GLU-143@499 0 0.0\n",
      "MET-144@500 0 0.0\n",
      "ARG-145@501 0 0.0\n",
      "GLU-146@502 0 0.0\n",
      "MET-147@503 0 0.0\n",
      "LEU-148@504 0 0.0\n",
      "THR-149@505 0 0.0\n",
      "HIS-150@506 0 0.0\n",
      "ARG-151@507 0 0.0\n",
      "ASN-152@508 0 0.0\n",
      "GLY-153@509 0 0.0\n",
      "LEU-154@510 0 0.0\n",
      "VAL-155@511 0 0.0\n",
      "LYS-156@512 0 0.0\n",
      "LYS-157@513 0 0.0\n",
      "GLY-158@514 0 0.0\n",
      "LYS-159@515 0 0.0\n",
      "GLU-160@516 0 0.0\n",
      "GLN-161@517 0 0.0\n",
      "ASN-162@518 0 0.0\n",
      "THR-163@519 2 0.0\n",
      "GLN-164@520 6 0.1598196240639249\n",
      "ARG-165@521 6 0.0\n",
      "SER-166@522 8 0.5339875511838726\n",
      "PHE-167@523 5 0.0\n",
      "PHE-168@524 1 0.0\n",
      "LEU-169@525 0 0.0\n",
      "ARG-170@526 0 0.0\n",
      "MET-171@527 0 0.0\n",
      "LYS-172@528 0 0.0\n",
      "CYS-173@529 0 0.0\n",
      "THR-174@530 0 0.0\n",
      "LEU-175@531 0 0.0\n",
      "THR-176@532 0 0.0\n",
      "SER-177@533 0 0.0\n",
      "ARG-178@534 0 0.0\n",
      "GLY-179@535 0 0.0\n",
      "ARG-180@536 0 0.08821340585247428\n",
      "THR-181@537 0 0.0\n",
      "MET-182@538 0 0.0\n",
      "ASN-183@539 0 0.0\n",
      "ILE-184@540 0 0.0\n",
      "LYS-185@541 0 0.0\n",
      "SER-186@542 0 0.0\n",
      "ALA-187@543 0 0.0\n",
      "THR-188@544 0 0.0\n",
      "TRP-189@545 0 0.0\n",
      "LYS-190@546 0 0.0\n",
      "VAL-191@547 0 0.0\n",
      "LEU-192@548 0 0.0\n",
      "HIS-193@549 5 0.8494175693440162\n",
      "CYS-194@550 4 0.0\n",
      "THR-195@551 14 0.5973362861879536\n",
      "GLY-196@552 14 0.7856305501416023\n",
      "HIS-197@553 8 0.6294647109607392\n",
      "ILE-198@554 3 0.013702444532400977\n",
      "HIS-199@555 3 0.22019044439735444\n",
      "VAL-200@556 0 0.0\n",
      "TYR-201@557 0 0.0\n",
      "ASP-202@558 1 0.0\n",
      "THR-203@559 7 0.0790535759438465\n",
      "ASN-204@560 9 0.0\n",
      "SER-205@561 9 0.04880812192207838\n",
      "ASN-206@562 10 0.1461686252175884\n",
      "GLN-207@563 10 0.0757812240773274\n",
      "PRO-208@564 8 0.23517849461060308\n",
      "GLN-209@565 3 0.0\n",
      "CYS-210@566 2 0.0\n",
      "GLY-211@567 3 0.0\n",
      "TYR-212@568 1 0.0\n",
      "LYS-213@569 0 0.0\n",
      "LYS-214@570 0 0.0\n",
      "PRO-215@571 0 0.0\n",
      "PRO-216@572 0 0.0\n",
      "MET-217@573 0 0.05829952082105725\n",
      "THR-218@574 0 0.0\n",
      "CYS-219@575 0 0.0\n",
      "LEU-220@576 3 0.0\n",
      "VAL-221@577 8 0.7993837159343746\n",
      "LEU-222@578 9 0.20930233038627422\n",
      "ILE-223@579 13 0.9062242300192186\n",
      "CYS-224@580 3 0.0\n",
      "GLU-225@581 5 0.7309855337127085\n",
      "PRO-226@582 0 0.0\n",
      "ILE-227@583 0 0.0\n",
      "PRO-228@584 1 0.0\n",
      "HIS-229@585 0 0.0\n",
      "PRO-230@586 0 0.0\n",
      "SER-231@587 0 0.0\n",
      "ASN-232@588 0 0.0\n",
      "ILE-233@589 5 0.17350333019038677\n",
      "GLU-234@590 8 0.13818457582909055\n",
      "ILE-235@591 14 0.5208374430376654\n",
      "PRO-236@592 19 0.5871031836759354\n",
      "LEU-237@593 10 0.04956450537443803\n",
      "ASP-238@594 13 0.8064372470203466\n",
      "SER-239@595 9 0.24233879539554543\n",
      "LYS-240@596 12 0.7051716685700392\n",
      "THR-241@597 7 0.012176345594213175\n",
      "PHE-242@598 0 0.0\n",
      "LEU-243@599 0 0.0\n",
      "SER-244@600 0 0.0\n",
      "ARG-245@601 0 0.0\n",
      "HIS-246@602 4 0.0\n",
      "SER-247@603 5 0.10956071163313791\n",
      "LEU-248@604 7 0.8342841663693564\n",
      "ASP-249@605 10 0.9437266194512247\n",
      "MET-250@606 9 0.0\n",
      "LYS-251@607 9 0.5938085590451542\n",
      "PHE-252@608 1 0.0\n",
      "SER-253@609 0 0.0\n",
      "TYR-254@610 0 0.0\n",
      "CYS-255@611 0 0.0\n",
      "ASP-256@612 0 0.0\n",
      "GLU-257@613 0 0.0\n",
      "ARG-258@614 0 0.0\n",
      "ILE-259@615 0 0.0\n",
      "THR-260@616 0 0.0\n",
      "GLU-261@617 0 0.0\n",
      "LEU-262@618 2 0.0\n",
      "MET-263@619 0 0.0\n",
      "GLY-264@620 0 0.0\n",
      "TYR-265@621 0 0.0\n",
      "GLU-266@622 0 0.0\n",
      "PRO-267@623 0 0.0\n",
      "GLU-268@624 0 0.0\n",
      "GLU-269@625 0 0.0\n",
      "LEU-270@626 0 0.0\n",
      "LEU-271@627 0 0.0\n",
      "GLY-272@628 2 0.0016986328658834782\n",
      "ARG-273@629 5 0.0013278329331608558\n",
      "SER-274@630 11 1.0\n",
      "ILE-275@631 6 0.0\n",
      "TYR-276@632 16 0.9275946372488664\n",
      "GLU-277@633 18 0.6826510664544028\n",
      "TYR-278@634 8 0.0\n",
      "TYR-279@635 10 0.3737037852551879\n",
      "HIS-280@636 19 0.8662165676180239\n",
      "ALA-281@637 24 0.9333137071724432\n",
      "LEU-282@638 25 0.9906376191289692\n",
      "ASP-283@639 17 0.9077372411245426\n",
      "SER-284@640 16 0.7626980089208373\n",
      "ASP-285@641 11 0.19589037163759396\n",
      "HIS-286@642 9 0.43747843634138545\n",
      "LEU-287@643 5 0.0\n",
      "THR-288@644 4 0.07962816295720042\n",
      "LYS-289@645 3 0.043523733942463234\n",
      "THR-290@646 3 0.0\n",
      "HIS-291@647 4 0.8394340752662606\n",
      "HIS-292@648 4 0.007459309298873037\n",
      "ASP-293@649 1 0.0\n",
      "MET-294@650 2 0.0\n",
      "PHE-295@651 3 0.14609888830345522\n",
      "THR-296@652 1 0.0\n",
      "LYS-297@653 0 0.0\n",
      "GLY-298@654 0 0.0\n",
      "GLN-299@655 0 0.0\n",
      "VAL-300@656 2 0.0\n",
      "THR-301@657 5 0.7107194752525549\n",
      "THR-302@658 6 0.49225630590254627\n",
      "GLY-303@659 14 0.9847052256763127\n",
      "GLN-304@660 22 0.920541228415867\n",
      "TYR-305@661 18 0.1992783951474086\n",
      "ARG-306@662 12 1.0\n",
      "MET-307@663 5 0.0\n",
      "LEU-308@664 5 0.5194273634305637\n",
      "ALA-309@665 0 0.0\n",
      "LYS-310@666 0 0.0\n",
      "ARG-311@667 2 0.0\n",
      "GLY-312@668 5 0.0\n",
      "GLY-313@669 8 0.0\n",
      "TYR-314@670 6 0.5423789531819136\n",
      "VAL-315@671 5 0.0\n",
      "TRP-316@672 16 0.8389168846704657\n",
      "VAL-317@673 11 0.0\n",
      "GLU-318@674 14 0.9437646304098167\n",
      "THR-319@675 3 0.0\n",
      "GLN-320@676 1 0.04254343091951461\n",
      "ALA-321@677 0 0.0\n",
      "THR-322@678 0 0.0\n",
      "VAL-323@679 1 0.0\n",
      "ILE-324@680 0 0.0\n",
      "TYR-325@681 0 0.0\n",
      "ASN-326@682 0 0.0\n",
      "THR-327@683 0 0.0\n",
      "LYS-328@684 0 0.0\n",
      "ASN-329@685 0 0.0\n",
      "SER-330@686 0 0.0\n",
      "GLN-331@687 0 0.08476246057510678\n",
      "PRO-332@688 1 0.11893990799826352\n",
      "GLN-333@689 2 0.04153050677252008\n",
      "CYS-334@690 1 0.0\n",
      "ILE-335@691 2 0.0\n",
      "VAL-336@692 0 0.0\n",
      "CYS-337@693 0 0.0\n",
      "VAL-338@694 1 0.0\n",
      "ASN-339@695 2 0.0\n",
      "TYR-340@696 11 0.7108518917274467\n",
      "VAL-341@697 11 0.5907785949758255\n",
      "VAL-342@698 24 0.9845102901994012\n",
      "SER-343@699 20 0.6748952011965011\n",
      "GLY-344@700 9 0.5711309952365431\n",
      "ILE-345@701 3 0.0\n",
      "ILE-346@702 7 0.36363857557559287\n",
      "GLN-347@703 10 0.3814115775945512\n",
      "HIS-348@704 2 0.0032725237284510766\n",
      "ASP-349@705 4 0.07178677402960273\n"
     ]
    }
   ],
   "source": [
    "for ii,jj,kk in zip(labels_ligand, connectivity_ligand[0], buried_factors_ligand[0]):\n",
    "    print(ii,jj,kk)"
   ]
  },
  {
   "cell_type": "code",
   "execution_count": 12,
   "metadata": {},
   "outputs": [
    {
     "data": {
      "text/plain": [
       "<matplotlib.collections.PathCollection at 0x7f42ae43b890>"
      ]
     },
     "execution_count": 12,
     "metadata": {},
     "output_type": "execute_result"
    },
    {
     "data": {
      "image/png": "[encoded data removed]",
      "text/plain": [
       "<Figure size 432x288 with 1 Axes>"
      ]
     },
     "metadata": {
      "needs_background": "light"
     },
     "output_type": "display_data"
    }
   ],
   "source": [
    "plt.scatter(connectivity_ligand[0], buried_factors_ligand[0])"
   ]
  },
  {
   "cell_type": "code",
   "execution_count": 13,
   "metadata": {},
   "outputs": [
    {
     "data": {
      "text/plain": [
       "<matplotlib.collections.PathCollection at 0x7f42aed11a90>"
      ]
     },
     "execution_count": 13,
     "metadata": {},
     "output_type": "execute_result"
    },
    {
     "data": {
      "image/png": "[encoded data removed]",
      "text/plain": [
       "<Figure size 432x288 with 1 Axes>"
      ]
     },
     "metadata": {
      "needs_background": "light"
     },
     "output_type": "display_data"
    }
   ],
   "source": [
    "plt.scatter(connectivity_receptor[0], buried_factors_receptor[0])"
   ]
  },
  {
   "cell_type": "code",
   "execution_count": 14,
   "metadata": {},
   "outputs": [
    {
     "data": {
      "text/plain": [
       "Quantity(value=array([88.472534], dtype=float32), unit=nanometer**2)"
      ]
     },
     "execution_count": 14,
     "metadata": {},
     "output_type": "execute_result"
    }
   ],
   "source": [
    "oi.sasa_buried(molecular_system, 'component.index==0', 'component.index==1')"
   ]
  },
  {
   "cell_type": "code",
   "execution_count": null,
   "metadata": {},
   "outputs": [],
   "source": []
  }
 ],
 "metadata": {
  "kernelspec": {
   "display_name": "Python 3",
   "language": "python",
   "name": "python3"
  },
  "language_info": {
   "codemirror_mode": {
    "name": "ipython",
    "version": 3
   },
   "file_extension": ".py",
   "mimetype": "text/x-python",
   "name": "python",
   "nbconvert_exporter": "python",
   "pygments_lexer": "ipython3",
   "version": "3.7.7"
  }
 },
 "nbformat": 4,
 "nbformat_minor": 4
}
