{
 "cells": [
  {
   "cell_type": "code",
   "execution_count": 1,
   "metadata": {},
   "outputs": [],
   "source": [
    "%load_ext autoreload\n",
    "%autoreload 2"
   ]
  },
  {
   "cell_type": "code",
   "execution_count": 7,
   "metadata": {},
   "outputs": [],
   "source": [
    "import molsysmt as msm\n",
    "import openinterface as oin\n",
    "from matplotlib import pyplot as plt\n",
    "import nglview as nv\n",
    "import numpy as np"
   ]
  },
  {
   "cell_type": "code",
   "execution_count": 3,
   "metadata": {},
   "outputs": [],
   "source": [
    "molecular_system=msm.convert(\"HIF1_HS_Mod.pdb\")"
   ]
  },
  {
   "cell_type": "code",
   "execution_count": 4,
   "metadata": {},
   "outputs": [
    {
     "data": {
      "text/html": [
       "<style  type=\"text/css\" >\n",
       "</style><table id=\"T_637c9b1e_aba6_11ea_9163_db27b858cb03\" ><thead>    <tr>        <th class=\"col_heading level0 col0\" >form</th>        <th class=\"col_heading level0 col1\" >n atoms</th>        <th class=\"col_heading level0 col2\" >n groups</th>        <th class=\"col_heading level0 col3\" >n components</th>        <th class=\"col_heading level0 col4\" >n chains</th>        <th class=\"col_heading level0 col5\" >n molecules</th>        <th class=\"col_heading level0 col6\" >n entities</th>        <th class=\"col_heading level0 col7\" >n peptides</th>        <th class=\"col_heading level0 col8\" >n frames</th>    </tr></thead><tbody>\n",
       "                <tr>\n",
       "                                <td id=\"T_637c9b1e_aba6_11ea_9163_db27b858cb03row0_col0\" class=\"data row0 col0\" >molsysmt.MolSys</td>\n",
       "                        <td id=\"T_637c9b1e_aba6_11ea_9163_db27b858cb03row0_col1\" class=\"data row0 col1\" >5639</td>\n",
       "                        <td id=\"T_637c9b1e_aba6_11ea_9163_db27b858cb03row0_col2\" class=\"data row0 col2\" >706</td>\n",
       "                        <td id=\"T_637c9b1e_aba6_11ea_9163_db27b858cb03row0_col3\" class=\"data row0 col3\" >2</td>\n",
       "                        <td id=\"T_637c9b1e_aba6_11ea_9163_db27b858cb03row0_col4\" class=\"data row0 col4\" >2</td>\n",
       "                        <td id=\"T_637c9b1e_aba6_11ea_9163_db27b858cb03row0_col5\" class=\"data row0 col5\" >2</td>\n",
       "                        <td id=\"T_637c9b1e_aba6_11ea_9163_db27b858cb03row0_col6\" class=\"data row0 col6\" >2</td>\n",
       "                        <td id=\"T_637c9b1e_aba6_11ea_9163_db27b858cb03row0_col7\" class=\"data row0 col7\" >2</td>\n",
       "                        <td id=\"T_637c9b1e_aba6_11ea_9163_db27b858cb03row0_col8\" class=\"data row0 col8\" >1</td>\n",
       "            </tr>\n",
       "    </tbody></table>"
      ],
      "text/plain": [
       "<pandas.io.formats.style.Styler at 0x7fca2e1fee10>"
      ]
     },
     "execution_count": 4,
     "metadata": {},
     "output_type": "execute_result"
    }
   ],
   "source": [
    "msm.info(molecular_system)"
   ]
  },
  {
   "cell_type": "markdown",
   "metadata": {},
   "source": [
    "## Buried factors"
   ]
  },
  {
   "cell_type": "code",
   "execution_count": 5,
   "metadata": {},
   "outputs": [],
   "source": [
    "buried_factors_receptor, buried_factors_ligand, labels_receptor, labels_ligand = \\\n",
    "oin.buried_factors(molecular_system, 'component_index==0', 'component_index==1')"
   ]
  },
  {
   "cell_type": "code",
   "execution_count": 8,
   "metadata": {},
   "outputs": [
    {
     "data": {
      "application/vnd.jupyter.widget-view+json": {
       "model_id": "bdf9d979fe64447bb8e37ddf81e93303",
       "version_major": 2,
       "version_minor": 0
      },
      "text/plain": [
       "NGLWidget()"
      ]
     },
     "metadata": {},
     "output_type": "display_data"
    }
   ],
   "source": [
    "view = nv.show_molsysmt(molecular_system)\n",
    "view.clear()\n",
    "buried_factors_all = np.hstack([buried_factors_receptor, buried_factors_ligand])\n",
    "msm.nglview.show_colored_surface_by_scalar_residue_values(view, buried_factors_all[0,:])\n",
    "view"
   ]
  },
  {
   "cell_type": "code",
   "execution_count": 9,
   "metadata": {},
   "outputs": [
    {
     "data": {
      "application/vnd.jupyter.widget-view+json": {
       "model_id": "50444e5b785e40b39d384274c4d83d8e",
       "version_major": 2,
       "version_minor": 0
      },
      "text/plain": [
       "NGLWidget()"
      ]
     },
     "metadata": {},
     "output_type": "display_data"
    }
   ],
   "source": [
    "view = nv.show_molsysmt(molecular_system, selection=\"component_index==0\")\n",
    "view.clear()\n",
    "msm.nglview.show_colored_surface_by_scalar_residue_values(view, buried_factors_receptor[0,:])\n",
    "view"
   ]
  },
  {
   "cell_type": "code",
   "execution_count": 10,
   "metadata": {},
   "outputs": [
    {
     "data": {
      "application/vnd.jupyter.widget-view+json": {
       "model_id": "45c236ddf0be41a4a4745e50680ed6ed",
       "version_major": 2,
       "version_minor": 0
      },
      "text/plain": [
       "NGLWidget()"
      ]
     },
     "metadata": {},
     "output_type": "display_data"
    }
   ],
   "source": [
    "view = nv.show_molsysmt(molecular_system, selection=\"component_index==1\")\n",
    "view.clear()\n",
    "msm.nglview.show_colored_surface_by_scalar_residue_values(view, buried_factors_ligand[0,:])\n",
    "view"
   ]
  },
  {
   "cell_type": "markdown",
   "metadata": {},
   "source": [
    "## Contact map and connectivity"
   ]
  },
  {
   "cell_type": "code",
   "execution_count": 11,
   "metadata": {},
   "outputs": [],
   "source": [
    "contact_map, labels_receptor, labels_ligand = \\\n",
    "oin.contact_map(molecular_system,'component_index==0', 'component_index==1')"
   ]
  },
  {
   "cell_type": "code",
   "execution_count": 12,
   "metadata": {},
   "outputs": [
    {
     "data": {
      "image/png": "[encoded data removed]",
      "text/plain": [
       "<Figure size 432x288 with 1 Axes>"
      ]
     },
     "metadata": {
      "needs_background": "light"
     },
     "output_type": "display_data"
    }
   ],
   "source": [
    "plt.imshow(contact_map[0], cmap='Greys', origin='lower')\n",
    "plt.show()"
   ]
  },
  {
   "cell_type": "code",
   "execution_count": 13,
   "metadata": {},
   "outputs": [],
   "source": [
    "connectivity_receptor, connectivity_ligand, labels_receptor, labels_ligand = \\\n",
    "oin.connectivity(molecular_system, 'component_index==0', 'component_index==1')"
   ]
  },
  {
   "cell_type": "code",
   "execution_count": 14,
   "metadata": {},
   "outputs": [
    {
     "data": {
      "image/png": "[encoded data removed]",
      "text/plain": [
       "<Figure size 432x288 with 1 Axes>"
      ]
     },
     "metadata": {
      "needs_background": "light"
     },
     "output_type": "display_data"
    }
   ],
   "source": [
    "plt.scatter(connectivity_ligand[0], buried_factors_ligand[0])\n",
    "plt.show()"
   ]
  },
  {
   "cell_type": "code",
   "execution_count": 15,
   "metadata": {},
   "outputs": [
    {
     "data": {
      "image/png": "[encoded data removed]",
      "text/plain": [
       "<Figure size 432x288 with 1 Axes>"
      ]
     },
     "metadata": {
      "needs_background": "light"
     },
     "output_type": "display_data"
    }
   ],
   "source": [
    "plt.scatter(connectivity_receptor[0], buried_factors_receptor[0])\n",
    "plt.show()"
   ]
  },
  {
   "cell_type": "code",
   "execution_count": 16,
   "metadata": {},
   "outputs": [
    {
     "data": {
      "application/vnd.jupyter.widget-view+json": {
       "model_id": "b90947717b574b75ba544be11cb32c1d",
       "version_major": 2,
       "version_minor": 0
      },
      "text/plain": [
       "NGLWidget()"
      ]
     },
     "metadata": {},
     "output_type": "display_data"
    }
   ],
   "source": [
    "view = nv.show_molsysmt(molecular_system)\n",
    "view.clear()\n",
    "connectivity_all = np.hstack([connectivity_receptor, connectivity_ligand])\n",
    "msm.nglview.show_colored_surface_by_scalar_residue_values(view, connectivity_all[0,:])\n",
    "view"
   ]
  },
  {
   "cell_type": "code",
   "execution_count": 17,
   "metadata": {},
   "outputs": [
    {
     "data": {
      "application/vnd.jupyter.widget-view+json": {
       "model_id": "8e6e8d5c900942688ad2293f8f31088f",
       "version_major": 2,
       "version_minor": 0
      },
      "text/plain": [
       "NGLWidget()"
      ]
     },
     "metadata": {},
     "output_type": "display_data"
    }
   ],
   "source": [
    "view = nv.show_molsysmt(molecular_system, selection=\"component_index==0\")\n",
    "view.clear()\n",
    "msm.nglview.show_colored_surface_by_scalar_residue_values(view, connectivity_receptor[0,:])\n",
    "view"
   ]
  },
  {
   "cell_type": "code",
   "execution_count": 18,
   "metadata": {},
   "outputs": [
    {
     "data": {
      "application/vnd.jupyter.widget-view+json": {
       "model_id": "6770a21313774e11add84ef42330bac6",
       "version_major": 2,
       "version_minor": 0
      },
      "text/plain": [
       "NGLWidget()"
      ]
     },
     "metadata": {},
     "output_type": "display_data"
    }
   ],
   "source": [
    "view = nv.show_molsysmt(molecular_system, selection=\"component_index==1\")\n",
    "view.clear()\n",
    "msm.nglview.show_colored_surface_by_scalar_residue_values(view, connectivity_ligand[0,:])\n",
    "view"
   ]
  },
  {
   "cell_type": "markdown",
   "metadata": {},
   "source": [
    "## SASA buried"
   ]
  },
  {
   "cell_type": "code",
   "execution_count": 19,
   "metadata": {},
   "outputs": [
    {
     "data": {
      "text/plain": [
       "Quantity(value=array([88.472534], dtype=float32), unit=nanometer**2)"
      ]
     },
     "execution_count": 19,
     "metadata": {},
     "output_type": "execute_result"
    }
   ],
   "source": [
    "oin.sasa_buried(molecular_system, 'component_index==0', 'component_index==1')"
   ]
  }
 ],
 "metadata": {
  "kernelspec": {
   "display_name": "Python 3",
   "language": "python",
   "name": "python3"
  },
  "language_info": {
   "codemirror_mode": {
    "name": "ipython",
    "version": 3
   },
   "file_extension": ".py",
   "mimetype": "text/x-python",
   "name": "python",
   "nbconvert_exporter": "python",
   "pygments_lexer": "ipython3",
   "version": "3.7.7"
  }
 },
 "nbformat": 4,
 "nbformat_minor": 4
}
